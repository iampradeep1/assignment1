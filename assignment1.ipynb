{
 "cells": [
  {
   "cell_type": "code",
   "execution_count": 5,
   "id": "de9e3dd2-d33b-4b73-9dce-bde9976df892",
   "metadata": {},
   "outputs": [
    {
     "name": "stdin",
     "output_type": "stream",
     "text": [
      "enter a number 10\n"
     ]
    },
    {
     "name": "stdout",
     "output_type": "stream",
     "text": [
      "55\n"
     ]
    }
   ],
   "source": [
    "#1.Write a python script to calculate sum of first N natural number\n",
    "number=int(input(\"enter a number\"))\n",
    "sum=0\n",
    "\n",
    "for i in range(1,number+1):\n",
    "    sum=sum+i\n",
    "print(sum)\n",
    "           "
   ]
  },
  {
   "cell_type": "code",
   "execution_count": 3,
   "id": "7ffb0045-4ec4-4a35-88c5-659bee615bd0",
   "metadata": {},
   "outputs": [
    {
     "name": "stdin",
     "output_type": "stream",
     "text": [
      "enter a no 3\n"
     ]
    },
    {
     "name": "stdout",
     "output_type": "stream",
     "text": [
      "14\n"
     ]
    }
   ],
   "source": [
    "#2. Write a python script to calculate sum of squares of first N natural numbers\n",
    "number=int(input(\"enter a number\"))\n",
    "sos=0 #sos=sum of square\n",
    "\n",
    "for i in range(1,number+1):\n",
    "    sos=sos+i**2\n",
    "    \n",
    "    \n",
    "print(sos)"
   ]
  },
  {
   "cell_type": "code",
   "execution_count": 2,
   "id": "48c1d9ce-e699-48d1-8cbd-3d812b555b87",
   "metadata": {},
   "outputs": [
    {
     "name": "stdin",
     "output_type": "stream",
     "text": [
      "enter a number 123\n"
     ]
    },
    {
     "name": "stdout",
     "output_type": "stream",
     "text": [
      "58155876\n"
     ]
    }
   ],
   "source": [
    "#3. Write a python script to calculate sum of cubes of first N natural numbers\n",
    "number=int(input(\"enter a number\"))\n",
    "soc=0 #soc=sum of cube\n",
    "\n",
    "for i in range(1,number+1):\n",
    "    soc=soc+i**3\n",
    "    \n",
    "    \n",
    "print(soc)\n"
   ]
  },
  {
   "cell_type": "code",
   "execution_count": 5,
   "id": "f6c804ac-e33f-4c03-ad10-9fac7fa4c22e",
   "metadata": {},
   "outputs": [
    {
     "name": "stdin",
     "output_type": "stream",
     "text": [
      "enter a number 1234\n"
     ]
    },
    {
     "name": "stdout",
     "output_type": "stream",
     "text": [
      "10\n"
     ]
    }
   ],
   "source": [
    "#4. Write a python script to calculate sum of digits of a given number\n",
    "\"\"\"number=int(input(\"enter a number\"))\n",
    "sum=0\n",
    "while(number>0):\n",
    "    sum=sum+number%10\n",
    "    number=number//10\n",
    "    \n",
    "print(sum)\"\"\"\n",
    "number=(input(\"enter a number\"))\n",
    "count=0\n",
    "for i in number:\n",
    "    count=count+int(i)\n",
    "print(count)    "
   ]
  },
  {
   "cell_type": "code",
   "execution_count": 7,
   "id": "cb80450b-1019-4104-b0e3-a190ba6497d5",
   "metadata": {},
   "outputs": [
    {
     "name": "stdin",
     "output_type": "stream",
     "text": [
      "enter a number 5\n"
     ]
    },
    {
     "name": "stdout",
     "output_type": "stream",
     "text": [
      "25\n"
     ]
    }
   ],
   "source": [
    "#5. Write a python script to calculate sum of first N odd natural number\n",
    "number=int(input(\"enter a number\"))\n",
    "soo=0  #soo =sum of odd number\n",
    "for i in range(2*number+1):\n",
    "    if(i%2==1):\n",
    "        soo=soo+i\n",
    "print(soo)\n"
   ]
  },
  {
   "cell_type": "code",
   "execution_count": 8,
   "id": "9f9c9ebd-70c8-4c4d-95a1-4c84c38a38b2",
   "metadata": {},
   "outputs": [
    {
     "name": "stdin",
     "output_type": "stream",
     "text": [
      "enter a number 5\n"
     ]
    },
    {
     "name": "stdout",
     "output_type": "stream",
     "text": [
      "30\n"
     ]
    }
   ],
   "source": [
    "#6. Write a python script to calculate sum of first N even natural numbers\n",
    "number=int(input(\"enter a number\"))\n",
    "soe=0  #soo =sum of even number\n",
    "for i in range(2*number+1):\n",
    "    if(i%2==0):\n",
    "        soe=soe+i\n",
    "print(soe)\n"
   ]
  },
  {
   "cell_type": "code",
   "execution_count": 13,
   "id": "05a1f917-33d9-47f3-8f80-d6dbada44a19",
   "metadata": {},
   "outputs": [
    {
     "name": "stdin",
     "output_type": "stream",
     "text": [
      "enter a number 6\n"
     ]
    },
    {
     "name": "stdout",
     "output_type": "stream",
     "text": [
      "720\n"
     ]
    }
   ],
   "source": [
    "# 7. Write a python script to calculate factorial of a given number\n",
    "number=int(input(\"enter a number\"))\n",
    "fact=1 #fact=foctorial\n",
    "for i in range(1,number+1):\n",
    "    fact=fact*i\n",
    "print(fact)"
   ]
  },
  {
   "cell_type": "code",
   "execution_count": 10,
   "id": "baa6e331-a209-4e3e-be8f-469e5760e33e",
   "metadata": {},
   "outputs": [
    {
     "name": "stdin",
     "output_type": "stream",
     "text": [
      "enter a number 1545\n"
     ]
    },
    {
     "name": "stdout",
     "output_type": "stream",
     "text": [
      "4\n"
     ]
    }
   ],
   "source": [
    "#8. Write a python script to count digits in a given number\n",
    "number=(input(\"enter a number\"))\n",
    "count=0\n",
    "for i in number:\n",
    "    \n",
    "    count=count+1\n",
    "    \n",
    "print(count)    "
   ]
  },
  {
   "cell_type": "code",
   "execution_count": 83,
   "id": "f40340dc-3845-4fb3-b7b6-d715b45119a2",
   "metadata": {},
   "outputs": [
    {
     "name": "stdin",
     "output_type": "stream",
     "text": [
      "enter a decimal number 32\n"
     ]
    },
    {
     "name": "stdout",
     "output_type": "stream",
     "text": [
      "[1, 0, 0, 0, 0, 0]\n"
     ]
    }
   ],
   "source": [
    "#9. Write a python script to print binary equivalent of a given decimal number. (do notuse bin() method)\n",
    "number=int(input(\"enter a decimal number\"))\n",
    "l=[]\n",
    "while(number!=0):\n",
    "    rem=number%2\n",
    "    l.append(rem)\n",
    "    number=number//2\n",
    "l.reverse()\n",
    "print(l)\n",
    "# answer should be reverse of the output"
   ]
  },
  {
   "cell_type": "code",
   "execution_count": 25,
   "id": "40d847e2-6239-4961-bb8f-4833637990b7",
   "metadata": {},
   "outputs": [
    {
     "name": "stdin",
     "output_type": "stream",
     "text": [
      "enter a binary number 1100\n"
     ]
    },
    {
     "name": "stdout",
     "output_type": "stream",
     "text": [
      "12\n"
     ]
    }
   ],
   "source": [
    "#10. Write a python script to print the octal equivalent of a given decimal number. (do notuse oct() method)\n",
    "number=(input(\"enter a binary number\"))\n",
    "dec=0\n",
    "l=len(number)-1\n",
    "for i in number:\n",
    "    i=int(i)\n",
    "    \n",
    "    dec=dec+(i)*(2**l)\n",
    "    l=l-1\n",
    "    \n",
    "    \n",
    "\n",
    "print(dec)\n",
    "        "
   ]
  }
 ],
 "metadata": {
  "kernelspec": {
   "display_name": "Python 3 (ipykernel)",
   "language": "python",
   "name": "python3"
  },
  "language_info": {
   "codemirror_mode": {
    "name": "ipython",
    "version": 3
   },
   "file_extension": ".py",
   "mimetype": "text/x-python",
   "name": "python",
   "nbconvert_exporter": "python",
   "pygments_lexer": "ipython3",
   "version": "3.10.9"
  }
 },
 "nbformat": 4,
 "nbformat_minor": 5
}
